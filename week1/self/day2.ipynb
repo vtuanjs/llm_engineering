{
 "cells": [
  {
   "cell_type": "code",
   "execution_count": 3,
   "metadata": {},
   "outputs": [
    {
     "data": {
      "text/markdown": [
       "**Solving for x**\n",
       "\n",
       "We have a simple linear equation:\n",
       "\n",
       "3x + 11 = 14\n",
       "\n",
       "To solve for `x`, we can start by subtracting 11 from both sides of the equation.\n",
       "\n",
       "3x + 11 - 11 = 14 - 11\n",
       "\n",
       "This simplifies to:\n",
       "\n",
       "3x = 3\n",
       "\n",
       "Next, we can divide both sides of the equation by 3 to isolate `x`.\n",
       "\n",
       "(3x) / 3 = 3 / 3\n",
       "\n",
       "This gives us:\n",
       "\n",
       "x = 1"
      ],
      "text/plain": [
       "<IPython.core.display.Markdown object>"
      ]
     },
     "metadata": {},
     "output_type": "display_data"
    }
   ],
   "source": [
    "# imports\n",
    "\n",
    "import os\n",
    "import requests\n",
    "from dotenv import load_dotenv\n",
    "from bs4 import BeautifulSoup\n",
    "from IPython.display import Markdown, display\n",
    "from openai import OpenAI\n",
    "\n",
    "# If you get an error running this cell, then please head over to the troubleshooting notebook!\n",
    "\n",
    "# Load environment variables in a file called .env\n",
    "\n",
    "OLLAMA_API = \"http://localhost:11434/api/chat\"\n",
    "HEADERS = {\"Content-Type\": \"application/json\"}\n",
    "MODEL = \"llama3.2\"\n",
    "\n",
    "openai = OpenAI(base_url='http://localhost:11434/v1', api_key='ollama')\n",
    "\n",
    "# If this doesn't work, try Kernel menu >> Restart Kernel and Clear Outputs Of All Cells, then run the cells from the top of this notebook down.\n",
    "# If it STILL doesn't work (horrors!) then please see the Troubleshooting notebook in this folder for full instructions\n",
    "\n",
    "# Step 1: Create your prompts\n",
    "\n",
    "system_prompt = \"You are a good assistant that can help me with my homework. Respond in markdown.\"\n",
    "user_prompt = \"\"\"\n",
    "    I need to solve the question below.\n",
    "    Question: 3x + 11 = 14\n",
    "\"\"\"\n",
    "\n",
    "# Step 2: Make the messages list\n",
    "\n",
    "messages = [{\n",
    "\t\"role\": \"system\",\n",
    "\t\"content\": system_prompt\n",
    "}, {\n",
    "\t\"role\": \"user\",\n",
    "\t\"content\": user_prompt\n",
    "}] # fill this in\n",
    "\n",
    "# Step 3: Call OpenAI\n",
    "\n",
    "response = openai.chat.completions.create(\n",
    "    model=MODEL,\n",
    "    messages=messages\n",
    ")\n",
    "\n",
    "# Step 4: print the result\n",
    "display(Markdown(response.choices[0].message.content))"
   ]
  }
 ],
 "metadata": {
  "kernelspec": {
   "display_name": "llms",
   "language": "python",
   "name": "python3"
  },
  "language_info": {
   "codemirror_mode": {
    "name": "ipython",
    "version": 3
   },
   "file_extension": ".py",
   "mimetype": "text/x-python",
   "name": "python",
   "nbconvert_exporter": "python",
   "pygments_lexer": "ipython3",
   "version": "3.11.11"
  }
 },
 "nbformat": 4,
 "nbformat_minor": 2
}
