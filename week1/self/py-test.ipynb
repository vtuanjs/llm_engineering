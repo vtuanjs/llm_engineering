{
 "cells": [
  {
   "cell_type": "code",
   "execution_count": null,
   "metadata": {},
   "outputs": [],
   "source": [
    "from pathlib import Path\n",
    "import glob\n",
    "\n",
    "# Define file paths using pathlib\n",
    "input_file = Path('file') / 'input.txt'\n",
    "output_file = Path('file') / 'output.txt'\n",
    "\n",
    "# Ensure the directory exists\n",
    "output_file.parent.mkdir(parents=True, exist_ok=True)\n",
    "\n",
    "# Read the input file and write to the output file\n",
    "if input_file.exists():\n",
    "    with open(input_file, 'r', encoding='utf-8') as infile, \\\n",
    "         open(output_file, 'w', encoding='utf-8') as outfile:\n",
    "        for line in infile:\n",
    "            outfile.write(line.upper())  # Example: Write uppercase content\n",
    "else:\n",
    "    print(f\"File {input_file} not found.\")\n",
    "\n",
    "# List all text files in the directory\n",
    "txt_files = glob.glob(str(Path('data') / '*.txt'))\n",
    "print(\"Text files in the 'data' directory:\", txt_files)"
   ]
  },
  {
   "cell_type": "code",
   "execution_count": null,
   "metadata": {},
   "outputs": [],
   "source": [
    "class Book:\n",
    "    def __init__(self, title, author, pages):\n",
    "        self.title = title\n",
    "        self.author = author\n",
    "        self.pages = pages\n",
    "\n",
    "    def summary(self):\n",
    "        print(f\"'{self.title}' by {self.author}, {self.pages} pages long.\")\n",
    "        \n",
    "my_book = Book(\"To Kill a Mockingbird\", \"Harper Lee\", 281)\n",
    "print(my_book.title)        # Output: To Kill a Mockingbird\n",
    "print(my_book.author)       # Output: Harper Lee\n",
    "my_book.summary()           # Output: 'To Kill a Mockingbird' by Harper Lee, 281 pages long."
   ]
  },
  {
   "cell_type": "markdown",
   "metadata": {},
   "source": [
    "# Pickling"
   ]
  },
  {
   "cell_type": "code",
   "execution_count": null,
   "metadata": {},
   "outputs": [],
   "source": [
    "import pickle\n",
    "\n",
    "class Person:\n",
    "    def __init__(self, name, age):\n",
    "        self.name = name\n",
    "        self.age = age\n",
    "\n",
    "    def __repr__(self):\n",
    "        return f\"Person(name={self.name}, age={self.age})\"\n",
    "    \n",
    "\n",
    "# Create an instance of the class\n",
    "person = Person(\"Alice\", 30)\n",
    "\n",
    "# Open a file in binary write mode\n",
    "with open(\"person.pkl\", \"wb\") as file:\n",
    "    pickle.dump(person, file)  # Serialize and write to file\n",
    "\n",
    "print(\"Object pickled successfully.\")\n",
    "\n",
    "# Open the file in binary read mode\n",
    "with open(\"person.pkl\", \"rb\") as file:\n",
    "    loaded_person = pickle.load(file)  # Deserialize and load\n",
    "\n",
    "print(\"Loaded object:\", loaded_person)"
   ]
  },
  {
   "cell_type": "code",
   "execution_count": null,
   "metadata": {},
   "outputs": [],
   "source": [
    "import json\n",
    "\n",
    "# Example dictionary\n",
    "data = {\"name\": \"Alice\", \"age\": 30, \"hobbies\": [\"reading\", \"cycling\"]}\n",
    "\n",
    "# Save to a JSON file\n",
    "with open(\"data.json\", \"w\") as file:\n",
    "    json.dump(data, file)\n",
    "\n",
    "print(\"Data saved as JSON.\")\n",
    "\n",
    "# Read from the JSON file\n",
    "with open(\"data.json\", \"r\") as file:\n",
    "    loaded_data = json.load(file)\n",
    "\n",
    "print(\"Loaded JSON data:\", loaded_data)\n",
    "\n",
    "# Convert Python object to JSON string\n",
    "json_string = json.dumps(data)\n",
    "print(\"JSON String:\", json_string)\n",
    "\n",
    "# Convert JSON string back to Python object\n",
    "python_obj = json.loads(json_string)\n",
    "print(\"Python Object:\", python_obj)"
   ]
  },
  {
   "cell_type": "code",
   "execution_count": null,
   "metadata": {},
   "outputs": [],
   "source": [
    "def count_up_to(n):\n",
    "    count = 1\n",
    "    while count <= n:\n",
    "        yield count  # Generates value lazily\n",
    "        count += 1\n",
    "\n",
    "gen = count_up_to(5)  # Create generator\n",
    "\n",
    "print(next(gen))  # Output: 1\n",
    "print(next(gen))  # Output: 2\n",
    "print(list(gen))  # Output: [3, 4, 5] (Remaining values)"
   ]
  },
  {
   "cell_type": "code",
   "execution_count": 44,
   "metadata": {},
   "outputs": [
    {
     "name": "stdout",
     "output_type": "stream",
     "text": [
      "F. Scott Fitzgerald\n",
      "George Orwell\n",
      "Harper Lee\n"
     ]
    }
   ],
   "source": [
    "class Book:\n",
    "\tdef __init__(self, title, author):\n",
    "\t\tself.title = title\n",
    "\t\tself.author = author\n",
    "\n",
    "\tdef has_author(self) -> bool:\n",
    "\t\treturn bool(self.author)\n",
    "\n",
    "class BookShelf:\n",
    "\tbooks: list[Book]\n",
    "\n",
    "\tdef __init__(self) -> None:\n",
    "\t\tself.books = []\n",
    "\n",
    "\tdef add_book(self, book: Book):\n",
    "\t\tself.books.append(book)\n",
    "\n",
    "\tdef unique_authors(self):\n",
    "\t\tseen_authors = set()\n",
    "\t\tfor book in self.books:\n",
    "\t\t\tif book.author and book.author not in seen_authors:\n",
    "\t\t\t\tseen_authors.add(book.author)\n",
    "\t\t\t\tyield book.author\n",
    "\n",
    "book1 = Book(\"The Great Gatsby\", \"F. Scott Fitzgerald\")\n",
    "book2 = Book(\"1984\", \"George Orwell\")\n",
    "book3 = Book(\"Animal Farm\", \"George Orwell\")\n",
    "book4 = Book(\"To Kill a Mockingbird\", \"Harper Lee\")\n",
    "\n",
    "shelf = BookShelf()\n",
    "shelf.add_book(book1)\n",
    "shelf.add_book(book2)\n",
    "shelf.add_book(book3)\n",
    "shelf.add_book(book4)\n",
    "\n",
    "authors = shelf.unique_authors()\n",
    "# Solution 1\n",
    "# print(\"Unique authors:\", list(authors))\n",
    "\n",
    "# Solution 2\n",
    "# print(next(authors))\n",
    "# print(next(authors))\n",
    "# print(next(authors))\n",
    "\n",
    "# Solution 3\n",
    "for author in authors:\n",
    "\tprint(author)\n",
    "\n"
   ]
  },
  {
   "cell_type": "code",
   "execution_count": null,
   "metadata": {},
   "outputs": [],
   "source": []
  }
 ],
 "metadata": {
  "kernelspec": {
   "display_name": "llms",
   "language": "python",
   "name": "python3"
  },
  "language_info": {
   "codemirror_mode": {
    "name": "ipython",
    "version": 3
   },
   "file_extension": ".py",
   "mimetype": "text/x-python",
   "name": "python",
   "nbconvert_exporter": "python",
   "pygments_lexer": "ipython3",
   "version": "3.11.11"
  }
 },
 "nbformat": 4,
 "nbformat_minor": 2
}
