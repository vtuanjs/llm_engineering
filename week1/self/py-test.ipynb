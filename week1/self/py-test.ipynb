{
 "cells": [
  {
   "cell_type": "code",
   "execution_count": 10,
   "metadata": {},
   "outputs": [
    {
     "name": "stdout",
     "output_type": "stream",
     "text": [
      "File file/input.txt not found.\n",
      "Text files in the 'data' directory: []\n"
     ]
    }
   ],
   "source": [
    "from pathlib import Path\n",
    "import glob\n",
    "\n",
    "# Define file paths using pathlib\n",
    "input_file = Path('file') / 'input.txt'\n",
    "output_file = Path('file') / 'output.txt'\n",
    "\n",
    "# Ensure the directory exists\n",
    "output_file.parent.mkdir(parents=True, exist_ok=True)\n",
    "\n",
    "# Read the input file and write to the output file\n",
    "if input_file.exists():\n",
    "    with open(input_file, 'r', encoding='utf-8') as infile, \\\n",
    "         open(output_file, 'w', encoding='utf-8') as outfile:\n",
    "        for line in infile:\n",
    "            outfile.write(line.upper())  # Example: Write uppercase content\n",
    "else:\n",
    "    print(f\"File {input_file} not found.\")\n",
    "\n",
    "# List all text files in the directory\n",
    "txt_files = glob.glob(str(Path('data') / '*.txt'))\n",
    "print(\"Text files in the 'data' directory:\", txt_files)"
   ]
  }
 ],
 "metadata": {
  "kernelspec": {
   "display_name": "llms",
   "language": "python",
   "name": "python3"
  },
  "language_info": {
   "codemirror_mode": {
    "name": "ipython",
    "version": 3
   },
   "file_extension": ".py",
   "mimetype": "text/x-python",
   "name": "python",
   "nbconvert_exporter": "python",
   "pygments_lexer": "ipython3",
   "version": "3.11.11"
  }
 },
 "nbformat": 4,
 "nbformat_minor": 2
}
